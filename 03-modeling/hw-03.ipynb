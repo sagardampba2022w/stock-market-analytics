{
 "cells": [
  {
   "cell_type": "markdown",
   "metadata": {
    "vscode": {
     "languageId": "plaintext"
    }
   },
   "source": [
    "## Module 3 Homework (2025 Cohort)\n",
    "\n",
    "In this homework, we're going to work with categorical variables, first ML models (Decision Trees), and hyperparameter tuning.\n",
    "\n",
    "Please use the [Colab Module 3](https://github.com/DataTalksClub/stock-markets-analytics-zoomcamp/blob/main/03-modeling/%5B2025%5D_Module_3_Colab_Time_Series_Modeling.ipynb) for all tasks to ensure you have the same dataframe used for the Modeling part, as covered during the lecture. \n",
    "\n",
    "**HINT**: If you want to avoid data truncation in GitHub's UI, try either of the following options:\n",
    "* Open the notebook in [Colab, using the GitHub link to the notebook](https://colab.research.google.com/github/DataTalksClub/stock-markets-analytics-zoomcamp/blob/main/03-modeling/%5B2025%5D_Module_3_Colab_Time_Series_Modeling.ipynb).\n",
    "* Clone the repository to a local folder and open the notebook in Jupyter Notebook.\n",
    "---\n",
    "### Question 1: Dummies for Month and Week-of-Month\n",
    "\n",
    "**What is the ABSOLUTE CORRELATION VALUE of the most correlated dummy variable <month>_w<week_of_month> with the binary outcome `is_positive_growth_30d_future`?**\n",
    "\n",
    "From the correlation analysis and modeling, you may have observed that October and November are potentially important seasonal months. In this task, you'll go further by generating dummy variables for both the **Month** and **Week-of-Month** (starting from 1). For example, the first week of October should be coded as: `'October_w1'`.\n",
    "\n",
    "Once you've generated these new variables, identify the one with the **highest absolute correlation** with `is_positive_growth_30d_future`, and round the result to **three decimal places**.\n",
    "\n",
    "\n",
    "#### Suggested Steps\n",
    "\n",
    "1. Use [this StackOverflow reference](https://stackoverflow.com/questions/25249033/week-of-a-month-pandas) to compute the week of the month using the following formula:\n",
    "  ```python\n",
    "  (d.day - 1) // 7 + 1\n",
    "  ```\n",
    "2. Create a new string variable that combines the month name and week of the month.\n",
    "Example: 'October_w1', 'November_w2', etc.\n",
    "\n",
    "3. Add the new variable (e.g., `month_wom`) to your set of **categorical features**.\n",
    "\n",
    "   Your updated categorical feature list should include:\n",
    "   - `'Month'`\n",
    "   - `'Weekday'`\n",
    "   - `'Ticker'`\n",
    "   - `'ticker_type'`\n",
    "   - `'month_wom'`\n",
    "\n",
    "4. Use [`pandas.get_dummies()`](https://pandas.pydata.org/pandas-docs/stable/reference/api/pandas.get_dummies.html) to generate dummy variables for all categorical features.\n",
    "\n",
    "   This should result in approximately **115 dummy variables**, including around **60** for the `month_wom` feature (`12 months × up to 5 weeks`).\n",
    "\n",
    "5. Use [`DataFrame.corr()`](https://pandas.pydata.org/docs/reference/api/pandas.DataFrame.corr.html) to compute the correlation between each feature and the target variable `is_positive_growth_30d_future`.\n",
    "\n",
    "6. Filter the correlation results to include only the dummy variables generated from `month_wom`.\n",
    "\n",
    "7. Create a new column named `abs_corr` in the correlation results that stores the **absolute value** of the correlations.\n",
    "\n",
    "8. Sort the correlation results by `abs_corr` in **descending** order.\n",
    "\n",
    "9. Identify and report the **highest absolute correlation value** among the `month_wom` dummy variables, rounded to **three decimal places**.\n",
    "\n",
    "\n",
    "**NOTE**: new dummies will be used as features in the next tasks, please leave them in the dataset.\n"
   ]
  },
  {
   "cell_type": "code",
   "execution_count": null,
   "metadata": {
    "vscode": {
     "languageId": "plaintext"
    }
   },
   "outputs": [],
   "source": []
  }
 ],
 "metadata": {
  "language_info": {
   "name": "python"
  }
 },
 "nbformat": 4,
 "nbformat_minor": 2
}
