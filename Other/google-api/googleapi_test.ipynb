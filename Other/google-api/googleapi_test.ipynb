{
 "cells": [
  {
   "cell_type": "code",
   "execution_count": 1,
   "metadata": {},
   "outputs": [
    {
     "name": "stdout",
     "output_type": "stream",
     "text": [
      "Please visit this URL to authorize this application: https://accounts.google.com/o/oauth2/auth?response_type=code&client_id=443322363109-j48mtdhv643t7b0ajae35eo2a6t49qv3.apps.googleusercontent.com&redirect_uri=http%3A%2F%2Flocalhost%3A56371%2F&scope=https%3A%2F%2Fwww.googleapis.com%2Fauth%2Fdrive.metadata.readonly&state=YZYKUzCfq1o2fXFZeq9supc1JUmLW6&access_type=offline\n",
      "Files:\n",
      "MLOps Zoomcamp FAQ (12TlBfhIiKtyBv8RnsoJR6F72bkPDGEvPOItJIxaEzE0)\n",
      "LLM Zoomcamp FAQ (1m2KexowAXTmexfC5rVTCSnaShvdUQ8Ag2IEiwBDHxN0)\n",
      "Machine Learning Zoomcamp FAQ (1LpPanc33QJJ6BSsyxVg-pWNMplal84TdZtq10naIhD8)\n",
      "Effies Preliminary Analysis.pptx (10tfWvuo-MJvmglvNNzLrvyGFi0b3L0mM)\n",
      "Data Engineering Zoomcamp FAQ (19bnYs80DwuUimHM65UV3sylsCn2j1vziPOwzBwQrebw)\n",
      "Research as a Stochastic Decision Process (1KCSXYmInnBrOnFw5y3kQdNluLTYKt-jF1psyviNAeag)\n",
      "Stock Analytics Zoomcamp FAQ (1ABQD6ns4vZHKu2dHGqqJ85LCOF7LzxqfvWBVXb_-M9E)\n",
      "TPQ CPF Program (16 weeks) (1PFumYEK_YtlogvXgvccypqGT962pr0rHLuH8mff_6_Q)\n",
      "Omdena Live Prompting- Creating a Real-Time Mining-Site Locator (1o1V4Z7glPcyBkDwUtOzvnGr5BbyMEpd4)\n",
      "Snapchat x Kantar Project Tracker (1M0l6BdbRbgaKoNAn6eBw_qyCiLS9T2N3n442cBx-Cgo)\n"
     ]
    }
   ],
   "source": [
    "import os.path\n",
    "\n",
    "from google.auth.transport.requests import Request\n",
    "from google.oauth2.credentials import Credentials\n",
    "from google_auth_oauthlib.flow import InstalledAppFlow\n",
    "from googleapiclient.discovery import build\n",
    "from googleapiclient.errors import HttpError\n",
    "\n",
    "# If modifying these scopes, delete the file token.json.\n",
    "SCOPES = [\"https://www.googleapis.com/auth/drive.metadata.readonly\"]\n",
    "\n",
    "\n",
    "def main():\n",
    "  \"\"\"Shows basic usage of the Drive v3 API.\n",
    "  Prints the names and ids of the first 10 files the user has access to.\n",
    "  \"\"\"\n",
    "  creds = None\n",
    "  # The file token.json stores the user's access and refresh tokens, and is\n",
    "  # created automatically when the authorization flow completes for the first\n",
    "  # time.\n",
    "  if os.path.exists(\"token.json\"):\n",
    "    creds = Credentials.from_authorized_user_file(\"token.json\", SCOPES)\n",
    "  # If there are no (valid) credentials available, let the user log in.\n",
    "  if not creds or not creds.valid:\n",
    "    if creds and creds.expired and creds.refresh_token:\n",
    "      creds.refresh(Request())\n",
    "    else:\n",
    "      flow = InstalledAppFlow.from_client_secrets_file(\n",
    "          \"credentials.json\", SCOPES\n",
    "      )\n",
    "      creds = flow.run_local_server(port=0)\n",
    "    # Save the credentials for the next run\n",
    "    with open(\"token.json\", \"w\") as token:\n",
    "      token.write(creds.to_json())\n",
    "\n",
    "  try:\n",
    "    service = build(\"drive\", \"v3\", credentials=creds)\n",
    "\n",
    "    # Call the Drive v3 API\n",
    "    results = (\n",
    "        service.files()\n",
    "        .list(pageSize=10, fields=\"nextPageToken, files(id, name)\")\n",
    "        .execute()\n",
    "    )\n",
    "    items = results.get(\"files\", [])\n",
    "\n",
    "    if not items:\n",
    "      print(\"No files found.\")\n",
    "      return\n",
    "    print(\"Files:\")\n",
    "    for item in items:\n",
    "      print(f\"{item['name']} ({item['id']})\")\n",
    "  except HttpError as error:\n",
    "    # TODO(developer) - Handle errors from drive API.\n",
    "    print(f\"An error occurred: {error}\")\n",
    "\n",
    "\n",
    "if __name__ == \"__main__\":\n",
    "  main()"
   ]
  },
  {
   "cell_type": "code",
   "execution_count": 2,
   "metadata": {},
   "outputs": [],
   "source": [
    "def create_folder(service, folder_name, parent_id=None):\n",
    "    file_metadata = {\n",
    "        'name': folder_name,\n",
    "        'mimeType': 'application/vnd.google-apps.folder'\n",
    "    }\n",
    "    if parent_id:\n",
    "        file_metadata['parents'] = [parent_id]\n",
    "    folder = service.files().create(body=file_metadata, fields='id').execute()\n",
    "    print(f'Folder \"{folder_name}\" created with ID: {folder.get(\"id\")}')\n",
    "    return folder.get('id')\n"
   ]
  },
  {
   "cell_type": "code",
   "execution_count": 3,
   "metadata": {},
   "outputs": [],
   "source": [
    "from googleapiclient.http import MediaFileUpload\n",
    "\n",
    "def upload_file(service, file_path, folder_id, mime_type=None):\n",
    "    file_name = os.path.basename(file_path)\n",
    "    file_metadata = {\n",
    "        'name': file_name,\n",
    "        'parents': [folder_id]\n",
    "    }\n",
    "    media = MediaFileUpload(file_path, mimetype=mime_type)\n",
    "    file = service.files().create(\n",
    "        body=file_metadata,\n",
    "        media_body=media,\n",
    "        fields='id'\n",
    "    ).execute()\n",
    "    print(f'File \"{file_name}\" uploaded with ID: {file.get(\"id\")}')\n",
    "    return file.get('id')\n"
   ]
  },
  {
   "cell_type": "code",
   "execution_count": 4,
   "metadata": {},
   "outputs": [],
   "source": [
    "from googleapiclient.http import MediaFileUpload\n",
    "\n",
    "def upload_file(service, file_path, folder_id, mime_type=None):\n",
    "    file_name = os.path.basename(file_path)\n",
    "    file_metadata = {\n",
    "        'name': file_name,\n",
    "        'parents': [folder_id]\n",
    "    }\n",
    "    media = MediaFileUpload(file_path, mimetype=mime_type)\n",
    "    file = service.files().create(\n",
    "        body=file_metadata,\n",
    "        media_body=media,\n",
    "        fields='id'\n",
    "    ).execute()\n",
    "    print(f'File \"{file_name}\" uploaded with ID: {file.get(\"id\")}')\n",
    "    return file.get('id')\n"
   ]
  },
  {
   "cell_type": "code",
   "execution_count": 6,
   "metadata": {},
   "outputs": [
    {
     "ename": "NameError",
     "evalue": "name 'tokens' is not defined",
     "output_type": "error",
     "traceback": [
      "\u001b[31m---------------------------------------------------------------------------\u001b[39m",
      "\u001b[31mNameError\u001b[39m                                 Traceback (most recent call last)",
      "\u001b[36mCell\u001b[39m\u001b[36m \u001b[39m\u001b[32mIn[6]\u001b[39m\u001b[32m, line 20\u001b[39m\n\u001b[32m     17\u001b[39m     create_google_sheet(service, \u001b[33m'\u001b[39m\u001b[33mMy Data Sheet\u001b[39m\u001b[33m'\u001b[39m, folder_id)\n\u001b[32m     19\u001b[39m \u001b[38;5;28;01mif\u001b[39;00m \u001b[34m__name__\u001b[39m == \u001b[33m\"\u001b[39m\u001b[33m__main__\u001b[39m\u001b[33m\"\u001b[39m:\n\u001b[32m---> \u001b[39m\u001b[32m20\u001b[39m     \u001b[43mmain\u001b[49m\u001b[43m(\u001b[49m\u001b[43m)\u001b[49m\n",
      "\u001b[36mCell\u001b[39m\u001b[36m \u001b[39m\u001b[32mIn[6]\u001b[39m\u001b[32m, line 7\u001b[39m, in \u001b[36mmain\u001b[39m\u001b[34m()\u001b[39m\n\u001b[32m      6\u001b[39m \u001b[38;5;28;01mdef\u001b[39;00m\u001b[38;5;250m \u001b[39m\u001b[34mmain\u001b[39m():\n\u001b[32m----> \u001b[39m\u001b[32m7\u001b[39m     service = build(\u001b[33m'\u001b[39m\u001b[33mdrive\u001b[39m\u001b[33m'\u001b[39m, \u001b[33m'\u001b[39m\u001b[33mv3\u001b[39m\u001b[33m'\u001b[39m, credentials=\u001b[43mtokens\u001b[49m.json)\n\u001b[32m      8\u001b[39m     folder_id = create_folder(service, \u001b[33m\"\u001b[39m\u001b[33mMyProjectFolder\u001b[39m\u001b[33m\"\u001b[39m)\n\u001b[32m     10\u001b[39m     \u001b[38;5;66;03m# Upload a CSV file\u001b[39;00m\n",
      "\u001b[31mNameError\u001b[39m: name 'tokens' is not defined"
     ]
    }
   ],
   "source": [
    "from googleapiclient.discovery import build\n",
    "from googleapiclient.http import MediaFileUpload\n",
    "\n",
    "# ... (reuse your authentication code from before)\n",
    "\n",
    "def main():\n",
    "    service = build('drive', 'v3', credentials=tokens.json)\n",
    "    folder_id = create_folder(service, \"MyProjectFolder\")\n",
    "\n",
    "    # Upload a CSV file\n",
    "    upload_file(service, 'example.csv', folder_id, 'text/csv')\n",
    "\n",
    "    # (Optional) Upload a Parquet file\n",
    "    # upload_file(service, 'example.parquet', folder_id, 'application/octet-stream')\n",
    "\n",
    "    # Create a Google Sheet\n",
    "    create_google_sheet(service, 'My Data Sheet', folder_id)\n",
    "\n",
    "if __name__ == \"__main__\":\n",
    "    main()\n"
   ]
  },
  {
   "cell_type": "code",
   "execution_count": 1,
   "metadata": {},
   "outputs": [
    {
     "name": "stdout",
     "output_type": "stream",
     "text": [
      "Please visit this URL to authorize this application: https://accounts.google.com/o/oauth2/auth?response_type=code&client_id=443322363109-j48mtdhv643t7b0ajae35eo2a6t49qv3.apps.googleusercontent.com&redirect_uri=http%3A%2F%2Flocalhost%3A56618%2F&scope=https%3A%2F%2Fwww.googleapis.com%2Fauth%2Fdrive+https%3A%2F%2Fwww.googleapis.com%2Fauth%2Fspreadsheets&state=WZ03XvOgBsRwJXawaUzkCvpV0IYV9p&access_type=offline\n",
      "Folder \"MyProjectFolder\" created with ID: 1o5FgOumBPkmCE_8QwL9ZX1O74FzpjqfS\n",
      "example.csv not found, skipping CSV upload.\n",
      "Google Sheet \"My Data Sheet\" created with ID: 1knaTX-_sYkqTLRhMJ6Tb-ZqUqRhi59h2gflaF87JQ4Q\n"
     ]
    }
   ],
   "source": [
    "import os\n",
    "from google.auth.transport.requests import Request\n",
    "from google.oauth2.credentials import Credentials\n",
    "from google_auth_oauthlib.flow import InstalledAppFlow\n",
    "from googleapiclient.discovery import build\n",
    "from googleapiclient.errors import HttpError\n",
    "from googleapiclient.http import MediaFileUpload\n",
    "\n",
    "# If modifying these scopes, delete the file token.json.\n",
    "SCOPES = [\n",
    "    \"https://www.googleapis.com/auth/drive\",\n",
    "    \"https://www.googleapis.com/auth/spreadsheets\",\n",
    "]\n",
    "\n",
    "def authenticate():\n",
    "    creds = None\n",
    "    # The file token.json stores the user's access and refresh tokens.\n",
    "    if os.path.exists(\"token.json\"):\n",
    "        creds = Credentials.from_authorized_user_file(\"token.json\", SCOPES)\n",
    "    # If there are no valid credentials, let the user log in.\n",
    "    if not creds or not creds.valid:\n",
    "        if creds and creds.expired and creds.refresh_token:\n",
    "            creds.refresh(Request())\n",
    "        else:\n",
    "            flow = InstalledAppFlow.from_client_secrets_file(\"credentials.json\", SCOPES)\n",
    "            creds = flow.run_local_server(port=0)\n",
    "        # Save the credentials for the next run\n",
    "        with open(\"token.json\", \"w\") as token:\n",
    "            token.write(creds.to_json())\n",
    "    return creds\n",
    "\n",
    "def create_folder(service, folder_name, parent_id=None):\n",
    "    file_metadata = {\n",
    "        'name': folder_name,\n",
    "        'mimeType': 'application/vnd.google-apps.folder'\n",
    "    }\n",
    "    if parent_id:\n",
    "        file_metadata['parents'] = [parent_id]\n",
    "    folder = service.files().create(body=file_metadata, fields='id').execute()\n",
    "    print(f'Folder \"{folder_name}\" created with ID: {folder.get(\"id\")}')\n",
    "    return folder.get('id')\n",
    "\n",
    "def upload_file(service, file_path, folder_id, mime_type=None):\n",
    "    file_name = os.path.basename(file_path)\n",
    "    file_metadata = {\n",
    "        'name': file_name,\n",
    "        'parents': [folder_id]\n",
    "    }\n",
    "    media = MediaFileUpload(file_path, mimetype=mime_type)\n",
    "    file = service.files().create(\n",
    "        body=file_metadata,\n",
    "        media_body=media,\n",
    "        fields='id'\n",
    "    ).execute()\n",
    "    print(f'File \"{file_name}\" uploaded with ID: {file.get(\"id\")}')\n",
    "    return file.get('id')\n",
    "\n",
    "def create_google_sheet(service, sheet_name, folder_id):\n",
    "    file_metadata = {\n",
    "        'name': sheet_name,\n",
    "        'mimeType': 'application/vnd.google-apps.spreadsheet',\n",
    "        'parents': [folder_id]\n",
    "    }\n",
    "    file = service.files().create(body=file_metadata, fields='id').execute()\n",
    "    print(f'Google Sheet \"{sheet_name}\" created with ID: {file.get(\"id\")}')\n",
    "    return file.get('id')\n",
    "\n",
    "def main():\n",
    "    creds = authenticate()\n",
    "    service = build('drive', 'v3', credentials=creds)\n",
    "\n",
    "    # 1. Create a project folder\n",
    "    folder_id = create_folder(service, \"MyProjectFolder\")\n",
    "\n",
    "    # 2. Upload a CSV file\n",
    "    if os.path.exists('example.csv'):\n",
    "        upload_file(service, 'example.csv', folder_id, 'text/csv')\n",
    "    else:\n",
    "        print('example.csv not found, skipping CSV upload.')\n",
    "\n",
    "    # 3. (Optional) Upload a Parquet file\n",
    "    # if os.path.exists('example.parquet'):\n",
    "    #     upload_file(service, 'example.parquet', folder_id, 'application/octet-stream')\n",
    "    # else:\n",
    "    #     print('example.parquet not found, skipping Parquet upload.')\n",
    "\n",
    "    # 4. Create a Google Sheet\n",
    "    create_google_sheet(service, 'My Data Sheet', folder_id)\n",
    "\n",
    "if __name__ == \"__main__\":\n",
    "    main()\n"
   ]
  },
  {
   "cell_type": "code",
   "execution_count": 18,
   "metadata": {},
   "outputs": [],
   "source": [
    "import gspread\n",
    "gc = gspread.service_account(filename='stock-market-google-api.json')\n",
    "sheet = gc.open('test')\n"
   ]
  },
  {
   "cell_type": "code",
   "execution_count": 19,
   "metadata": {},
   "outputs": [
    {
     "data": {
      "text/plain": [
       "'1zjj4m_3UGkxNTmuZFdRpDa6PHRA3-nAh0Ubzfb7Twak'"
      ]
     },
     "execution_count": 19,
     "metadata": {},
     "output_type": "execute_result"
    }
   ],
   "source": [
    "sheet.id"
   ]
  },
  {
   "cell_type": "code",
   "execution_count": 20,
   "metadata": {},
   "outputs": [
    {
     "data": {
      "text/plain": [
       "<Spreadsheet 'test' id:1zjj4m_3UGkxNTmuZFdRpDa6PHRA3-nAh0Ubzfb7Twak>"
      ]
     },
     "execution_count": 20,
     "metadata": {},
     "output_type": "execute_result"
    }
   ],
   "source": [
    "gc.open_by_key(sheet.id)"
   ]
  },
  {
   "cell_type": "code",
   "execution_count": 21,
   "metadata": {},
   "outputs": [
    {
     "name": "stdout",
     "output_type": "stream",
     "text": [
      "Sheet1\n"
     ]
    }
   ],
   "source": [
    "\n",
    "\n",
    "# List worksheet (tab) titles:\n",
    "for ws in sheet.worksheets():\n",
    "    print(ws.title)"
   ]
  },
  {
   "cell_type": "code",
   "execution_count": 22,
   "metadata": {},
   "outputs": [],
   "source": [
    "worksheet = sheet.sheet1 "
   ]
  },
  {
   "cell_type": "code",
   "execution_count": 23,
   "metadata": {},
   "outputs": [
    {
     "name": "stdout",
     "output_type": "stream",
     "text": [
      "     A    B    C\n",
      "0  1.0  2.0  3.0\n",
      "1  4.0  5.0  6.0\n",
      "2  7.0  8.0  9.0\n",
      "3  4.0  5.0  6.0\n",
      "4  7.0  8.0  9.0\n"
     ]
    }
   ],
   "source": [
    "import pandas as pd\n",
    "from gspread_dataframe import get_as_dataframe\n",
    "\n",
    "# Read the worksheet into a Pandas DataFrame\n",
    "df = get_as_dataframe(worksheet, evaluate_formulas=True, header=0)\n",
    "print(df.head())\n"
   ]
  },
  {
   "cell_type": "code",
   "execution_count": 14,
   "metadata": {},
   "outputs": [],
   "source": []
  },
  {
   "cell_type": "code",
   "execution_count": null,
   "metadata": {},
   "outputs": [],
   "source": []
  },
  {
   "cell_type": "code",
   "execution_count": 24,
   "metadata": {},
   "outputs": [
    {
     "data": {
      "text/html": [
       "<div>\n",
       "<style scoped>\n",
       "    .dataframe tbody tr th:only-of-type {\n",
       "        vertical-align: middle;\n",
       "    }\n",
       "\n",
       "    .dataframe tbody tr th {\n",
       "        vertical-align: top;\n",
       "    }\n",
       "\n",
       "    .dataframe thead th {\n",
       "        text-align: right;\n",
       "    }\n",
       "</style>\n",
       "<table border=\"1\" class=\"dataframe\">\n",
       "  <thead>\n",
       "    <tr style=\"text-align: right;\">\n",
       "      <th></th>\n",
       "      <th>A</th>\n",
       "      <th>B</th>\n",
       "      <th>C</th>\n",
       "    </tr>\n",
       "  </thead>\n",
       "  <tbody>\n",
       "    <tr>\n",
       "      <th>0</th>\n",
       "      <td>1.0</td>\n",
       "      <td>2.0</td>\n",
       "      <td>3.0</td>\n",
       "    </tr>\n",
       "    <tr>\n",
       "      <th>1</th>\n",
       "      <td>4.0</td>\n",
       "      <td>5.0</td>\n",
       "      <td>6.0</td>\n",
       "    </tr>\n",
       "    <tr>\n",
       "      <th>2</th>\n",
       "      <td>7.0</td>\n",
       "      <td>8.0</td>\n",
       "      <td>9.0</td>\n",
       "    </tr>\n",
       "    <tr>\n",
       "      <th>3</th>\n",
       "      <td>4.0</td>\n",
       "      <td>5.0</td>\n",
       "      <td>6.0</td>\n",
       "    </tr>\n",
       "    <tr>\n",
       "      <th>4</th>\n",
       "      <td>7.0</td>\n",
       "      <td>8.0</td>\n",
       "      <td>9.0</td>\n",
       "    </tr>\n",
       "    <tr>\n",
       "      <th>5</th>\n",
       "      <td>4.0</td>\n",
       "      <td>5.0</td>\n",
       "      <td>6.0</td>\n",
       "    </tr>\n",
       "    <tr>\n",
       "      <th>6</th>\n",
       "      <td>7.0</td>\n",
       "      <td>8.0</td>\n",
       "      <td>9.0</td>\n",
       "    </tr>\n",
       "  </tbody>\n",
       "</table>\n",
       "</div>"
      ],
      "text/plain": [
       "     A    B    C\n",
       "0  1.0  2.0  3.0\n",
       "1  4.0  5.0  6.0\n",
       "2  7.0  8.0  9.0\n",
       "3  4.0  5.0  6.0\n",
       "4  7.0  8.0  9.0\n",
       "5  4.0  5.0  6.0\n",
       "6  7.0  8.0  9.0"
      ]
     },
     "execution_count": 24,
     "metadata": {},
     "output_type": "execute_result"
    }
   ],
   "source": [
    "# Create more rows as another DataFrame\n",
    "additional = pd.DataFrame({\n",
    "    'A': [4.0, 7.0],\n",
    "    'B': [5.0, 8.0],\n",
    "    'C': [6.0, 9.0]\n",
    "})\n",
    "\n",
    "# Append them\n",
    "df = pd.concat([df, additional], ignore_index=True)\n",
    "df"
   ]
  },
  {
   "cell_type": "code",
   "execution_count": 25,
   "metadata": {},
   "outputs": [],
   "source": [
    "from gspread_dataframe import set_with_dataframe\n",
    "\n",
    "set_with_dataframe(worksheet, df)\n"
   ]
  }
 ],
 "metadata": {
  "kernelspec": {
   "display_name": ".venv",
   "language": "python",
   "name": "python3"
  },
  "language_info": {
   "codemirror_mode": {
    "name": "ipython",
    "version": 3
   },
   "file_extension": ".py",
   "mimetype": "text/x-python",
   "name": "python",
   "nbconvert_exporter": "python",
   "pygments_lexer": "ipython3",
   "version": "3.11.12"
  }
 },
 "nbformat": 4,
 "nbformat_minor": 2
}
